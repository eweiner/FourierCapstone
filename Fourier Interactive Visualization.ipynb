{
 "cells": [
  {
   "cell_type": "markdown",
   "metadata": {},
   "source": [
    "# Fourier Interactive Visualization\n",
    "\n",
    "To use this tool you will need to have python as well as jupyter, ipywidgets, matplotlib, numpy and scipy installed as packages. To install a package, you can use pip install."
   ]
  },
  {
   "cell_type": "code",
   "execution_count": 6,
   "metadata": {},
   "outputs": [],
   "source": [
    "from __future__ import print_function\n",
    "from ipywidgets import interact, interactive, fixed, interact_manual\n",
    "import ipywidgets as widgets\n",
    "import matplotlib.pyplot as plt\n",
    "import numpy as np\n",
    "from scipy.fft import fft"
   ]
  },
  {
   "cell_type": "markdown",
   "metadata": {},
   "source": [
    "## Source Code\n",
    "No need to look at this unless you are interested!"
   ]
  },
  {
   "cell_type": "code",
   "execution_count": 61,
   "metadata": {},
   "outputs": [],
   "source": [
    "def plot_funcs(lower=-1.0, upper=1.0, a0=0, a1=0, a2=0, a3=0, a4=0, a20=0, sin1=1, cos1=0, sin5=0, cos5=0, sin20=0, cos20=0, exp=0):\n",
    "    \n",
    "    if lower >= upper:\n",
    "        raise Exception(\"Lower is smaller than upper\")\n",
    "    x = np.linspace(lower, upper, 1000)\n",
    "    # Calculate the user inputted function (add here if you want to try out different things)\n",
    "    out = a0 + a1 * x + a2 * x ** 2 + a3 * x ** 3 + a4 * x ** 4 + a20 * x ** 20 + sin1 * np.sin(2 * 3.14 * x) + cos1 * np.cos(2 * 3.14 * x)+ sin5 * np.sin(2 * 5 * 3.14 * x) + cos5 * np.cos(2 * 5 * 3.14 * x) + sin20 * np.sin(2 * 20 * 3.14 * x) + cos20 * np.cos(2 * 20 * 3.14 * x) + exp * np.exp(x)\n",
    "    # Calculate the coefficients!\n",
    "    coefficients = np.fft.fft(out)\n",
    "    fig, (ax1, ax2) = plt.subplots(1, 2, figsize=(17,5))\n",
    "    fig.suptitle('Test Functions and Their Transforms')\n",
    "    ax1.plot(x, out)\n",
    "    ax1.set_xlabel('Time')\n",
    "    ax1.set_ylabel(\"Amplitude\")\n",
    "    freq = np.fft.fftfreq(out.shape[-1], d = (upper - lower)/(1000.0))\n",
    "    densities = (np.conj(coefficients[:40]) * coefficients[:40]) / (np.conj(coefficients[:40]) * coefficients[:40]).sum()\n",
    "    ax2.plot(freq[:40], densities.real, label=\"PSD\")\n",
    "    ax2.set_xlabel(\"Frequency\")\n",
    "    ax2.set_ylabel(\"Power Spectrum Density\")\n",
    "\n",
    "kwargs = {\"lower\":(-4.0,4.0),\n",
    "          \"upper\":(-4.0,4.0),\n",
    "          \"a0\":(-4.0,4.0),\n",
    "          \"a1\":(-4.0,4.0),\n",
    "          \"a2\":(-4.0,4.0),\n",
    "          \"a3\":(-4.0,4.0),\n",
    "          \"a4\":(-4.0,4.0),\n",
    "          \"a20\":(-4.0,4.0),\n",
    "          \"sin1\":(-4.0,4.0),\n",
    "          \"cos1\":(-4.0,4.0),\n",
    "          \"sin5\":(-4.0,4.0),\n",
    "          \"cos5\":(-4.0,4.0),\n",
    "          \"cos20\":(-4.0,4.0),\n",
    "          \"sin20\":(-4.0,4.0),\n",
    "          \"exp\":(-4.0,4.0)}\n"
   ]
  },
  {
   "cell_type": "markdown",
   "metadata": {},
   "source": [
    "## Fourier!\n",
    "\n",
    "When you are ready, run the below block, and you will have the ability to manipulate a parameter and watch how the graph and fourier transforms change. The parameter meanings are below, and you can change the range of the parameters at any time by changing the tuple in the kwargs dictionary above.\n",
    "\n",
    "### Note: Clicking on a space on the bars below tends to work better than dragging, so the figures can update\n",
    "\n",
    "We define $f: (lower, upper) \\rightarrow \\mathbb{R}$,\n",
    "\n",
    "$f(x) = a_0 + a_1x + a_2x^2 + a_3x^3 + a_4x^4 + a_{20}x^{20} + sin_1\\sin{2\\pi x} + cos_1\\cos{2\\pi x} + sin_5\\sin{5(2\\pi x)} + cos_5\\cos{5(2\\pi x)} + sin_{20}\\sin{20(2\\pi x)} + cos_{20}\\cos{20(2\\pi x)} + e^x$\n",
    "\n",
    "lower - lower bound of the domain\n",
    "\n",
    "upper - upper bound of the domain\n",
    "\n",
    "a0 - Constant term\n",
    "\n",
    "a1 - Coefficient in front of $x$\n",
    "\n",
    "a2 - Coefficient in front of $x^2$\n",
    "\n",
    "a3 - Coefficient in front of $x^3$\n",
    "\n",
    "a4 - Coefficient in front of $x^4$\n",
    "\n",
    "sin1 - Coefficient in front of sin with frequency 1\n",
    "\n",
    "cos1 - Coefficient in front of cos with frequency 1\n",
    "\n",
    "sin5 - Coefficient in front of sin with frequency 5\n",
    "\n",
    "cos5 - Coefficient in front of cos with frequency 5\n",
    "\n",
    "sin20 - Coefficient in front of sin with frequency 20\n",
    "\n",
    "cos20 - Coefficient in front of cos with frequency 20\n",
    "\n",
    "exp - Coefficient in front of $e^x$"
   ]
  },
  {
   "cell_type": "code",
   "execution_count": 63,
   "metadata": {},
   "outputs": [
    {
     "data": {
      "application/vnd.jupyter.widget-view+json": {
       "model_id": "c0dcd33d4fd744c085179e9ae50f592f",
       "version_major": 2,
       "version_minor": 0
      },
      "text/plain": [
       "interactive(children=(FloatSlider(value=-1.0, description='lower', max=4.0, min=-4.0), FloatSlider(value=1.0, …"
      ]
     },
     "metadata": {},
     "output_type": "display_data"
    }
   ],
   "source": [
    "interact(plot_funcs, **kwargs);"
   ]
  },
  {
   "cell_type": "code",
   "execution_count": null,
   "metadata": {},
   "outputs": [],
   "source": []
  }
 ],
 "metadata": {
  "kernelspec": {
   "display_name": "Python 3",
   "language": "python",
   "name": "python3"
  },
  "language_info": {
   "codemirror_mode": {
    "name": "ipython",
    "version": 3
   },
   "file_extension": ".py",
   "mimetype": "text/x-python",
   "name": "python",
   "nbconvert_exporter": "python",
   "pygments_lexer": "ipython3",
   "version": "3.7.6"
  }
 },
 "nbformat": 4,
 "nbformat_minor": 4
}
